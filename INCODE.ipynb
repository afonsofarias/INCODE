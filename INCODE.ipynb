{
  "nbformat": 4,
  "nbformat_minor": 0,
  "metadata": {
    "colab": {
      "provenance": [],
      "collapsed_sections": [
        "vROVz2-51PXZ",
        "O-1MSvjD5LyF",
        "VHgSbTtICMn4",
        "HZjko2gGEMfe",
        "tndIR70mFB1X",
        "4tF38RWyCDSZ",
        "zy7L2QZ6Lrrh",
        "b0GgUWe1P5na",
        "KS7fm4IeQRRI",
        "27Vgjt-42Mro",
        "S7Ww3Ynchbby"
      ],
      "authorship_tag": "ABX9TyMOkWdZkp42XnMNDIylCkl1",
      "include_colab_link": true
    },
    "kernelspec": {
      "name": "python3",
      "display_name": "Python 3"
    },
    "language_info": {
      "name": "python"
    }
  },
  "cells": [
    {
      "cell_type": "markdown",
      "metadata": {
        "id": "view-in-github",
        "colab_type": "text"
      },
      "source": [
        "<a href=\"https://colab.research.google.com/github/afonsofarias/INCODE/blob/main/INCODE.ipynb\" target=\"_parent\"><img src=\"https://colab.research.google.com/assets/colab-badge.svg\" alt=\"Open In Colab\"/></a>"
      ]
    },
    {
      "cell_type": "markdown",
      "source": [
        "# **INCODE - AULA - 2**"
      ],
      "metadata": {
        "id": "vROVz2-51PXZ"
      }
    },
    {
      "cell_type": "markdown",
      "source": [
        "###**Soma de 2 numeros**"
      ],
      "metadata": {
        "id": "B__tsG-b3O9w"
      }
    },
    {
      "cell_type": "code",
      "execution_count": null,
      "metadata": {
        "colab": {
          "base_uri": "https://localhost:8080/"
        },
        "id": "Mm6xdU1I7r38",
        "outputId": "c1eb9404-8cf3-4956-aed0-80724b7852ec"
      },
      "outputs": [
        {
          "output_type": "stream",
          "name": "stdout",
          "text": [
            "Digite o primeiro numero: 3\n",
            "Digite o segundo numero: 4\n",
            "a soma é: 7.0\n"
          ]
        }
      ],
      "source": [
        "n1 = float(input(\"Digite o primeiro numero: \"))\n",
        "n2 = float(input(\"Digite o segundo numero: \"))\n",
        "resultado = n1+n2\n",
        "print(f\"a soma é: {resultado}\")"
      ]
    },
    {
      "cell_type": "markdown",
      "source": [
        "###**Media de escolar**"
      ],
      "metadata": {
        "id": "KtvXAuTh3Uc5"
      }
    },
    {
      "cell_type": "code",
      "source": [
        "n1 = float(input(\"Digite a primeira nota: \"))\n",
        "n2 = float(input(\"Digite o segunda nota: \"))\n",
        "m = (n1+n2)/2\n",
        "print(f\"a media é é: {m:.1f}\")"
      ],
      "metadata": {
        "id": "S9xuVh6579r8"
      },
      "execution_count": null,
      "outputs": []
    },
    {
      "cell_type": "markdown",
      "source": [
        "###**Verifica maior, menor ou igualdade**"
      ],
      "metadata": {
        "id": "MujgbdqY3eLw"
      }
    },
    {
      "cell_type": "code",
      "source": [
        "n1 = float(input(\"insira o primeiro numero: \"))\n",
        "n2 = float(input(\"insira o primeiro numero: \"))\n",
        "if(n1>n2):\n",
        "  print(\"n1 é maior que n2\")\n",
        "elif(n1==n2):\n",
        "  print(\"n1 e n2 sao iguais\")\n",
        "else:\n",
        "  print(\"n2 é maior que n1\")"
      ],
      "metadata": {
        "colab": {
          "base_uri": "https://localhost:8080/"
        },
        "id": "wZQpZqmGBCK3",
        "outputId": "b21f3ec8-a1c8-4bcb-8f2b-eaa35e1c25b4"
      },
      "execution_count": null,
      "outputs": [
        {
          "output_type": "stream",
          "name": "stdout",
          "text": [
            "insira o primeiro numero: 4\n",
            "insira o primeiro numero: 6\n",
            "n2 é maior que n14\n"
          ]
        }
      ]
    },
    {
      "cell_type": "markdown",
      "source": [
        "###**Diferente de zero**"
      ],
      "metadata": {
        "id": "uYmm2PdH3mOh"
      }
    },
    {
      "cell_type": "code",
      "source": [
        "n1 = float(input(\"insira um numero: \"))\n",
        "if(n1>0):\n",
        "  print(\"n1 é positivo\")\n",
        "elif(n1==0):\n",
        "  print(\"n1 é zero\")\n",
        "else:\n",
        "  print(\"n1 é negativo\")"
      ],
      "metadata": {
        "colab": {
          "base_uri": "https://localhost:8080/"
        },
        "id": "2uTayaEcMbnJ",
        "outputId": "902c601c-7073-4ef9-ecdc-01fb047ebb85"
      },
      "execution_count": null,
      "outputs": [
        {
          "output_type": "stream",
          "name": "stdout",
          "text": [
            "insira um numero: 0\n",
            "n1 é zero\n"
          ]
        }
      ]
    },
    {
      "cell_type": "markdown",
      "source": [
        "#**INCODE - AULA - 3**"
      ],
      "metadata": {
        "id": "9WrMs5IV3Jkp"
      }
    },
    {
      "cell_type": "markdown",
      "source": [
        "###3 entradas mostra o maior numero"
      ],
      "metadata": {
        "id": "O-1MSvjD5LyF"
      }
    },
    {
      "cell_type": "code",
      "source": [
        "n1 = float(input())\n",
        "n2 = float(input())\n",
        "n3 = float(input())\n",
        "\n",
        "if(n1>n2 and n1>n3):\n",
        "  print(n1)\n",
        "elif(n2>n1 and n2>n3):\n",
        "  print(n2)\n",
        "elif(n3>n1 and n3>n2):\n",
        "  print(n3)"
      ],
      "metadata": {
        "colab": {
          "base_uri": "https://localhost:8080/"
        },
        "id": "p5MtcQNT3TFB",
        "outputId": "05ca7dd5-dd5b-467c-cebf-365a068db83f"
      },
      "execution_count": null,
      "outputs": [
        {
          "output_type": "stream",
          "name": "stdout",
          "text": [
            "1\n",
            "2\n",
            "3\n",
            "3.0\n"
          ]
        }
      ]
    },
    {
      "cell_type": "markdown",
      "source": [
        "###lista for"
      ],
      "metadata": {
        "id": "VHgSbTtICMn4"
      }
    },
    {
      "cell_type": "code",
      "source": [
        "for i in range (1,5):\n",
        "    print('i')"
      ],
      "metadata": {
        "id": "YPxrGS-qCQDd",
        "colab": {
          "base_uri": "https://localhost:8080/"
        },
        "outputId": "b04460bc-1342-4295-963b-7e048867a244"
      },
      "execution_count": null,
      "outputs": [
        {
          "output_type": "stream",
          "name": "stdout",
          "text": [
            "i\n",
            "i\n",
            "i\n",
            "i\n"
          ]
        }
      ]
    },
    {
      "cell_type": "markdown",
      "source": [
        "###for com intervalos"
      ],
      "metadata": {
        "id": "HZjko2gGEMfe"
      }
    },
    {
      "cell_type": "code",
      "source": [
        "\n",
        "for i in range (7, 3, -1):\n",
        "    print(i)"
      ],
      "metadata": {
        "id": "oKAawsg-E8AO",
        "colab": {
          "base_uri": "https://localhost:8080/"
        },
        "outputId": "085f0b79-56a1-481b-c60d-a14c26f734ef"
      },
      "execution_count": null,
      "outputs": [
        {
          "output_type": "stream",
          "name": "stdout",
          "text": [
            "7\n",
            "6\n",
            "5\n",
            "4\n"
          ]
        }
      ]
    },
    {
      "cell_type": "markdown",
      "source": [
        "###for numeros pares"
      ],
      "metadata": {
        "id": "tndIR70mFB1X"
      }
    },
    {
      "cell_type": "code",
      "source": [
        "\n",
        "for i in range (2, 50, 2):\n",
        "    print(i)"
      ],
      "metadata": {
        "colab": {
          "base_uri": "https://localhost:8080/"
        },
        "id": "9q1-5cd2FFYU",
        "outputId": "288ac0d8-6d4a-427d-f132-3b592a0fcb25"
      },
      "execution_count": null,
      "outputs": [
        {
          "output_type": "stream",
          "name": "stdout",
          "text": [
            "2\n",
            "4\n",
            "6\n",
            "8\n",
            "10\n",
            "12\n",
            "14\n",
            "16\n",
            "18\n",
            "20\n",
            "22\n",
            "24\n",
            "26\n",
            "28\n",
            "30\n",
            "32\n",
            "34\n",
            "36\n",
            "38\n",
            "40\n",
            "42\n",
            "44\n",
            "46\n",
            "48\n"
          ]
        }
      ]
    },
    {
      "cell_type": "markdown",
      "source": [
        "###compara o maior numero"
      ],
      "metadata": {
        "id": "4tF38RWyCDSZ"
      }
    },
    {
      "cell_type": "code",
      "source": [
        "n1 = float(input())\n",
        "n2 = float(input())\n",
        "n3 = float(input())\n",
        "\n",
        "if(n1>n2 and n1>n3):\n",
        "    if(n2>n3):\n",
        "        print(f'{n1}, {n2} , {n3}')\n",
        "    else:\n",
        "        print(f'{n1}, {n3} , {n2}')\n",
        "\n",
        "\n",
        "elif(n2>n1 and n2>n3):\n",
        "    if(n1>n3):\n",
        "        print(f'{n2}, {n1}, {n3}')\n",
        "    else:\n",
        "        print(f'{n2}, {n3}, {n1}')\n",
        "\n",
        "\n",
        "elif(n3>n1 and n3>n2):\n",
        "    if(n2>n1 ):\n",
        "        print(f'{n3}, {n2}, {n1}')\n",
        "    else:\n",
        "        print(f'{n3}, {n1}, {n2}')"
      ],
      "metadata": {
        "id": "3R6CxrgDCCNY",
        "colab": {
          "base_uri": "https://localhost:8080/"
        },
        "outputId": "83e0e173-8400-4f77-ee65-20c579885b48"
      },
      "execution_count": null,
      "outputs": [
        {
          "output_type": "stream",
          "name": "stdout",
          "text": [
            "1\n",
            "3\n",
            "5\n",
            "5.0, 3.0, 1.0\n"
          ]
        }
      ]
    },
    {
      "cell_type": "markdown",
      "source": [
        "###tabuada"
      ],
      "metadata": {
        "id": "zy7L2QZ6Lrrh"
      }
    },
    {
      "cell_type": "code",
      "source": [
        "n = int(input())\n",
        "while(n!=0):\n",
        "    for i in range(1, 11):\n",
        "        ##for n in range (1,10):\n",
        "            print(f'{n} x {i} = {n*i}')\n",
        "        ##print('')\n",
        "    n = int(input())"
      ],
      "metadata": {
        "id": "iZxhjCLpL5-0",
        "colab": {
          "base_uri": "https://localhost:8080/"
        },
        "outputId": "ad05d422-8294-477f-d46b-2f04be28542e"
      },
      "execution_count": null,
      "outputs": [
        {
          "name": "stdout",
          "output_type": "stream",
          "text": [
            "1\n",
            "1 x 1 = 1\n",
            "1 x 2 = 2\n",
            "1 x 3 = 3\n",
            "1 x 4 = 4\n",
            "1 x 5 = 5\n",
            "1 x 6 = 6\n",
            "1 x 7 = 7\n",
            "1 x 8 = 8\n",
            "1 x 9 = 9\n",
            "1 x 10 = 10\n",
            "2\n",
            "2 x 1 = 2\n",
            "2 x 2 = 4\n",
            "2 x 3 = 6\n",
            "2 x 4 = 8\n",
            "2 x 5 = 10\n",
            "2 x 6 = 12\n",
            "2 x 7 = 14\n",
            "2 x 8 = 16\n",
            "2 x 9 = 18\n",
            "2 x 10 = 20\n",
            "3\n",
            "3 x 1 = 3\n",
            "3 x 2 = 6\n",
            "3 x 3 = 9\n",
            "3 x 4 = 12\n",
            "3 x 5 = 15\n",
            "3 x 6 = 18\n",
            "3 x 7 = 21\n",
            "3 x 8 = 24\n",
            "3 x 9 = 27\n",
            "3 x 10 = 30\n",
            "4\n",
            "4 x 1 = 4\n",
            "4 x 2 = 8\n",
            "4 x 3 = 12\n",
            "4 x 4 = 16\n",
            "4 x 5 = 20\n",
            "4 x 6 = 24\n",
            "4 x 7 = 28\n",
            "4 x 8 = 32\n",
            "4 x 9 = 36\n",
            "4 x 10 = 40\n",
            "5\n",
            "5 x 1 = 5\n",
            "5 x 2 = 10\n",
            "5 x 3 = 15\n",
            "5 x 4 = 20\n",
            "5 x 5 = 25\n",
            "5 x 6 = 30\n",
            "5 x 7 = 35\n",
            "5 x 8 = 40\n",
            "5 x 9 = 45\n",
            "5 x 10 = 50\n",
            "6\n",
            "6 x 1 = 6\n",
            "6 x 2 = 12\n",
            "6 x 3 = 18\n",
            "6 x 4 = 24\n",
            "6 x 5 = 30\n",
            "6 x 6 = 36\n",
            "6 x 7 = 42\n",
            "6 x 8 = 48\n",
            "6 x 9 = 54\n",
            "6 x 10 = 60\n",
            "7\n",
            "7 x 1 = 7\n",
            "7 x 2 = 14\n",
            "7 x 3 = 21\n",
            "7 x 4 = 28\n",
            "7 x 5 = 35\n",
            "7 x 6 = 42\n",
            "7 x 7 = 49\n",
            "7 x 8 = 56\n",
            "7 x 9 = 63\n",
            "7 x 10 = 70\n",
            "8\n",
            "8 x 1 = 8\n",
            "8 x 2 = 16\n",
            "8 x 3 = 24\n",
            "8 x 4 = 32\n",
            "8 x 5 = 40\n",
            "8 x 6 = 48\n",
            "8 x 7 = 56\n",
            "8 x 8 = 64\n",
            "8 x 9 = 72\n",
            "8 x 10 = 80\n",
            "9\n",
            "9 x 1 = 9\n",
            "9 x 2 = 18\n",
            "9 x 3 = 27\n",
            "9 x 4 = 36\n",
            "9 x 5 = 45\n",
            "9 x 6 = 54\n",
            "9 x 7 = 63\n",
            "9 x 8 = 72\n",
            "9 x 9 = 81\n",
            "9 x 10 = 90\n",
            "10\n",
            "10 x 1 = 10\n",
            "10 x 2 = 20\n",
            "10 x 3 = 30\n",
            "10 x 4 = 40\n",
            "10 x 5 = 50\n",
            "10 x 6 = 60\n",
            "10 x 7 = 70\n",
            "10 x 8 = 80\n",
            "10 x 9 = 90\n",
            "10 x 10 = 100\n",
            "0\n"
          ]
        }
      ]
    },
    {
      "cell_type": "markdown",
      "source": [
        "###9 numeros verfica o maior"
      ],
      "metadata": {
        "id": "b0GgUWe1P5na"
      }
    },
    {
      "cell_type": "code",
      "source": [
        "m=0\n",
        "for i in range(9):\n",
        "    n=int(input(f'digite o {i+1}º numero: '))\n",
        "    if(n>m):\n",
        "        m=n\n",
        "print(f'o maior numero digitado foi: {m}')"
      ],
      "metadata": {
        "id": "McGppaxsP-Z9",
        "colab": {
          "base_uri": "https://localhost:8080/"
        },
        "outputId": "508c027e-916b-43b3-89c9-50873349a1cc"
      },
      "execution_count": null,
      "outputs": [
        {
          "output_type": "stream",
          "name": "stdout",
          "text": [
            "digite o 1º numero: 2\n",
            "digite o 2º numero: 8\n",
            "digite o 3º numero: 12\n",
            "digite o 4º numero: 9\n",
            "digite o 5º numero: 8\n",
            "digite o 6º numero: 44\n",
            "digite o 7º numero: 63\n",
            "digite o 8º numero: 82\n",
            "digite o 9º numero: 35\n",
            "o maior numero digitado foi: 82\n"
          ]
        }
      ]
    },
    {
      "cell_type": "markdown",
      "source": [
        "###verifica numeros pares de 6 a 20"
      ],
      "metadata": {
        "id": "KS7fm4IeQRRI"
      }
    },
    {
      "cell_type": "code",
      "source": [
        "for i in range(6,21,2):\n",
        "    print(i)"
      ],
      "metadata": {
        "id": "bioA1wuBQVYR",
        "colab": {
          "base_uri": "https://localhost:8080/"
        },
        "outputId": "a6e59d03-0c41-448d-c379-d3ba63fd40eb"
      },
      "execution_count": null,
      "outputs": [
        {
          "output_type": "stream",
          "name": "stdout",
          "text": [
            "6\n",
            "8\n",
            "10\n",
            "12\n",
            "14\n",
            "16\n",
            "18\n",
            "20\n"
          ]
        }
      ]
    },
    {
      "cell_type": "markdown",
      "source": [
        "#EXERCICOS"
      ],
      "metadata": {
        "id": "vFZzfJEIRYl4"
      }
    },
    {
      "cell_type": "markdown",
      "source": [
        "##AULA 3"
      ],
      "metadata": {
        "id": "yk67pwNwYgkV"
      }
    },
    {
      "cell_type": "markdown",
      "source": [
        "###PALPITE NUMERO SECRETO (COM DICA APOS 3 CHUTES)"
      ],
      "metadata": {
        "id": "OOMyY80rRc2x"
      }
    },
    {
      "cell_type": "code",
      "source": [
        "import random\n",
        "import os\n",
        "\n",
        "segredo = random.randint(0, 100)\n",
        "tentativas = 10\n",
        "erros = 0\n",
        "\n",
        "while erros < 10:\n",
        "    v = int(input(f'Voce tem {tentativas} tentativas restantes.\\nDigite um numero de 0 a 100: '))\n",
        "\n",
        "    if v == segredo:\n",
        "        os.system('clear')\n",
        "        print(f'Voce acertou! O numero secreto e: {v}')\n",
        "        print(f'Restando {tentativas} tentativas')\n",
        "        break\n",
        "\n",
        "    erros += 1\n",
        "    tentativas -= 1\n",
        "\n",
        "    if erros >= 3:\n",
        "        os.system('clear')\n",
        "        if v > segredo:\n",
        "            print(f'Voce errou! O numero secreto e menor que {v}.')\n",
        "        else:\n",
        "            print(f'Voce errou! O numero secreto e maior que {v}.')\n",
        "    else:\n",
        "        os.system('clear')\n",
        "        print('Você errou!')\n",
        "\n",
        "    if tentativas == 0:\n",
        "        os.system('clear')\n",
        "        print(f'Fim de jogo.\\nVoce perdeu! O numero secreto era: {segredo}')\n",
        "        break"
      ],
      "metadata": {
        "id": "WMaIjD-8YQfh",
        "colab": {
          "base_uri": "https://localhost:8080/"
        },
        "outputId": "b6c7a719-b571-439e-e6fd-20e46a1a0c5c"
      },
      "execution_count": 1,
      "outputs": [
        {
          "output_type": "stream",
          "name": "stdout",
          "text": [
            "Voce tem 10 tentativas restantes.\n",
            "Digite um numero de 0 a 100: 50\n",
            "Você errou!\n",
            "Voce tem 9 tentativas restantes.\n",
            "Digite um numero de 0 a 100: 59\n",
            "Você errou!\n",
            "Voce tem 8 tentativas restantes.\n",
            "Digite um numero de 0 a 100: 60\n",
            "Voce errou! O numero secreto e maior que 60.\n",
            "Voce tem 7 tentativas restantes.\n",
            "Digite um numero de 0 a 100: 80\n",
            "Voce errou! O numero secreto e menor que 80.\n",
            "Voce tem 6 tentativas restantes.\n",
            "Digite um numero de 0 a 100: 75\n",
            "Voce errou! O numero secreto e menor que 75.\n",
            "Voce tem 5 tentativas restantes.\n",
            "Digite um numero de 0 a 100: 72\n",
            "Voce errou! O numero secreto e menor que 72.\n",
            "Voce tem 4 tentativas restantes.\n",
            "Digite um numero de 0 a 100: 71\n",
            "Voce acertou! O numero secreto e: 71\n",
            "Restando 4 tentativas\n"
          ]
        }
      ]
    },
    {
      "cell_type": "markdown",
      "source": [
        "###JOGO PIM (INFORMANDO O NUMERO"
      ],
      "metadata": {
        "id": "MJ-Vf5ZlYQ0Q"
      }
    },
    {
      "cell_type": "code",
      "source": [
        "pim = int(input('Digite o número para o PIM: '))\n",
        "for i in range(1, 100):\n",
        "    if (i % pim == 0):\n",
        "        print(\"PIM\")\n",
        "    else:\n",
        "        print(i)"
      ],
      "metadata": {
        "id": "_1XxtPwsYVkN",
        "colab": {
          "base_uri": "https://localhost:8080/"
        },
        "outputId": "61dc83e4-205d-4959-c585-9a68816ea85f"
      },
      "execution_count": null,
      "outputs": [
        {
          "output_type": "stream",
          "name": "stdout",
          "text": [
            "Digite o número para o 'PIM': 7\n",
            "1\n",
            "2\n",
            "3\n",
            "4\n",
            "5\n",
            "6\n",
            "PIM\n",
            "8\n",
            "9\n",
            "10\n",
            "11\n",
            "12\n",
            "13\n",
            "PIM\n",
            "15\n",
            "16\n",
            "17\n",
            "18\n",
            "19\n",
            "20\n",
            "PIM\n",
            "22\n",
            "23\n",
            "24\n",
            "25\n",
            "26\n",
            "27\n",
            "PIM\n",
            "29\n",
            "30\n",
            "31\n",
            "32\n",
            "33\n",
            "34\n",
            "PIM\n",
            "36\n",
            "37\n",
            "38\n",
            "39\n",
            "40\n",
            "41\n",
            "PIM\n",
            "43\n",
            "44\n",
            "45\n",
            "46\n",
            "47\n",
            "48\n",
            "PIM\n",
            "50\n",
            "51\n",
            "52\n",
            "53\n",
            "54\n",
            "55\n",
            "PIM\n",
            "57\n",
            "58\n",
            "59\n",
            "60\n",
            "61\n",
            "62\n",
            "PIM\n",
            "64\n",
            "65\n",
            "66\n",
            "67\n",
            "68\n",
            "69\n",
            "PIM\n",
            "71\n",
            "72\n",
            "73\n",
            "74\n",
            "75\n",
            "76\n",
            "PIM\n",
            "78\n",
            "79\n",
            "80\n",
            "81\n",
            "82\n",
            "83\n",
            "PIM\n",
            "85\n",
            "86\n",
            "87\n",
            "88\n",
            "89\n",
            "90\n",
            "PIM\n",
            "92\n",
            "93\n",
            "94\n",
            "95\n",
            "96\n",
            "97\n",
            "PIM\n",
            "99\n"
          ]
        }
      ]
    },
    {
      "cell_type": "markdown",
      "source": [
        "# **BEECROWD - LISTA 2 - INCODE**"
      ],
      "metadata": {
        "id": "27Vgjt-42Mro"
      }
    },
    {
      "cell_type": "markdown",
      "source": [
        "###**BEECROWD - \t1037\tIntervalo**"
      ],
      "metadata": {
        "id": "GwGGmHxC1iji"
      }
    },
    {
      "cell_type": "code",
      "source": [
        "v = float(input())\n",
        "\n",
        "if (v >= 0 and v < 25.01):\n",
        "  print(\"Intervalo [0,25]\")\n",
        "\n",
        "elif(v >= 25.01 and v < 50.01):\n",
        "  print(\"Intervalo (25,50]\")\n",
        "\n",
        "elif(v >= 50.01 and v < 75.01):\n",
        "  print(\"Intervalo (50,75]\")\n",
        "\n",
        "elif(v >= 75.01 and v <= 100.00):\n",
        "  print(\"Intervalo (75,100]\")\n",
        "\n",
        "else:\n",
        "  print(\"Fora de intervalo\")"
      ],
      "metadata": {
        "colab": {
          "base_uri": "https://localhost:8080/"
        },
        "id": "N-Neoc722K4Q",
        "outputId": "164a6812-fc19-4fcd-cb4f-5538d917c0ec"
      },
      "execution_count": null,
      "outputs": [
        {
          "output_type": "stream",
          "name": "stdout",
          "text": [
            "36.5\n",
            "Intervalo (25,50]\n"
          ]
        }
      ]
    },
    {
      "cell_type": "markdown",
      "source": [
        "###**BEECROWD - 1038 Lanche**"
      ],
      "metadata": {
        "id": "cjQ5l4Bj1_KB"
      }
    },
    {
      "cell_type": "code",
      "source": [
        "C, Q = map(int,input().split())\n",
        "\n",
        "if(C == 1):\n",
        "    V = Q * (4.00)\n",
        "    print(f\"Total: R$ {V:.2f}\")\n",
        "elif(C == 2):\n",
        "    V = Q * (4.50)\n",
        "    print(f\"Total: R$ {V:.2f}\")\n",
        "elif(C == 3):\n",
        "    V = Q * (5.00)\n",
        "    print(f\"Total: R$ {V:.2f}\")\n",
        "elif(C == 4):\n",
        "    V = Q * (2.00)\n",
        "    print(f\"Total: R$ {V:.2f}\")\n",
        "elif(C == 5):\n",
        "    V = Q * (1.50)\n",
        "    print(f\"Total: R$ {V:.2f}\")\n",
        "\n"
      ],
      "metadata": {
        "colab": {
          "base_uri": "https://localhost:8080/"
        },
        "id": "4TbucLIM2Jrv",
        "outputId": "80ec03b7-00d0-4754-d188-02b89101eb99"
      },
      "execution_count": null,
      "outputs": [
        {
          "output_type": "stream",
          "name": "stdout",
          "text": [
            "1 3\n",
            "Total: R$ 12.00\n"
          ]
        }
      ]
    },
    {
      "cell_type": "markdown",
      "source": [
        "###**BEECROWD - 1044 Múltiplos**"
      ],
      "metadata": {
        "id": "Zsf9c6so01Fh"
      }
    },
    {
      "cell_type": "code",
      "source": [
        "A, B = map(int,input().split())\n",
        "print(type(A))\n",
        "print(type(B))\n",
        "print(type(A%B==0))\n",
        "print(type(B%A==0))\n",
        "if (A%B==0 or B%A==0):\n",
        "    print(\"Sao Multiplos\")\n",
        "else:\n",
        "    print(\"Nao sao Multiplos\")"
      ],
      "metadata": {
        "id": "oce3C3KN0Qe6"
      },
      "execution_count": null,
      "outputs": []
    },
    {
      "cell_type": "markdown",
      "source": [
        "###**BEECROWD - 1046 Tempo de Jogo**"
      ],
      "metadata": {
        "id": "UbknhGit2rVA"
      }
    },
    {
      "cell_type": "code",
      "source": [
        "I, F = map(int,input().split())\n",
        "DIA=int(24)\n",
        "\n",
        "if(I>F):\n",
        "    DUR=((DIA-I)+F)\n",
        "    print(f\"O JOGO DUROU {DUR} HORA(S)\")\n",
        "elif(I==F):\n",
        "    DUR=24\n",
        "    print(f\"O JOGO DUROU {DUR} HORA(S)\")\n",
        "else:\n",
        "    DUR=F-I\n",
        "    print(f\"O JOGO DUROU {DUR} HORA(S)\")"
      ],
      "metadata": {
        "colab": {
          "base_uri": "https://localhost:8080/"
        },
        "id": "mdcfzGcC2sRY",
        "outputId": "0717c389-0bc0-4fa1-e77a-cd34d0459351"
      },
      "execution_count": null,
      "outputs": [
        {
          "name": "stdout",
          "output_type": "stream",
          "text": [
            "1 2\n"
          ]
        }
      ]
    },
    {
      "cell_type": "markdown",
      "source": [
        "###**BEECROWD - 1050 DDD**"
      ],
      "metadata": {
        "id": "qDmtlZnK2z4w"
      }
    },
    {
      "cell_type": "code",
      "source": [
        "ddd = int(input())\n",
        "\n",
        "if(ddd==61):\n",
        "    print(\"Brasilia\")\n",
        "elif(ddd==71):\n",
        "    print(\"Salvador\")\n",
        "elif(ddd==11):\n",
        "    print(\"Sao Paulo\")\n",
        "elif(ddd==21):\n",
        "    print(\"Rio de Janeiro\")\n",
        "elif(ddd==32):\n",
        "    print(\"Juiz de Fora\")\n",
        "elif(ddd==19):\n",
        "    print(\"Campinas\")\n",
        "elif(ddd==27):\n",
        "    print(\"Vitoria\")\n",
        "elif(ddd==31):\n",
        "    print(\"Belo Horizonte\")\n",
        "else:\n",
        "    print(\"DDD nao cadastrado\")"
      ],
      "metadata": {
        "id": "mfRy0elo26oQ"
      },
      "execution_count": null,
      "outputs": []
    },
    {
      "cell_type": "markdown",
      "source": [
        "##**BEECROWD - 1051 Imposto de Renda**"
      ],
      "metadata": {
        "id": "32D4ZCNg2-Rv"
      }
    },
    {
      "cell_type": "code",
      "source": [
        "salario = float(input())\n",
        "\n",
        "if(salario<=2000):\n",
        "    print(\"Isento\")\n",
        "elif(salario>2000 and salario<=3000):\n",
        "    imposto=(salario-2000)*0.08\n",
        "    print(f\"R$ {imposto:.2f}\")\n",
        "elif(salario>3000 and salario<=4500):\n",
        "    imposto=((salario-3000)*0.18)+80\n",
        "    print(f\"R$ {imposto:.2f}\")\n",
        "else:\n",
        "    imposto=((salario-4500)*0.28)+350\n",
        "    print(f\"R$ {imposto:.2f}\")"
      ],
      "metadata": {
        "id": "dUSuoPxh3GAC",
        "colab": {
          "base_uri": "https://localhost:8080/"
        },
        "outputId": "0f5fa0f2-7aa7-4347-c378-38aee717563d"
      },
      "execution_count": null,
      "outputs": [
        {
          "output_type": "stream",
          "name": "stdout",
          "text": [
            "15900\n",
            "R$ 3542.00\n"
          ]
        }
      ]
    },
    {
      "cell_type": "markdown",
      "source": [
        "##**BEECROWD - 1010 CÁLCULO SIMPLES**"
      ],
      "metadata": {
        "id": "YEI4sV-WbPSk"
      }
    },
    {
      "cell_type": "code",
      "source": [
        "COD1, QTD1, VAL1 = map(float, input().split())\n",
        "COD2, QTD2, VAL2 = map(float, input().split())\n",
        "\n",
        "TOTAL = (QTD1 * VAL1) + (QTD2 * VAL2)\n",
        "\n",
        "print(f\"VALOR A PAGAR: R$ {TOTAL:.2f}\")\n"
      ],
      "metadata": {
        "colab": {
          "base_uri": "https://localhost:8080/"
        },
        "id": "ienNVOZwbcu7",
        "outputId": "fed44087-5d28-4ba1-f929-017b48f97f63"
      },
      "execution_count": null,
      "outputs": [
        {
          "output_type": "stream",
          "name": "stdout",
          "text": [
            "12 1 5.30\n",
            "16 2 5.10\n",
            "VALOR A PAGAR: R$ 15.50\n"
          ]
        }
      ]
    },
    {
      "cell_type": "markdown",
      "source": [
        "#**BEECROWD - LISTA 3** - INCODE"
      ],
      "metadata": {
        "id": "o2DOQx1NyxaZ"
      }
    },
    {
      "cell_type": "markdown",
      "source": [
        "###BEECROWD - 1035 TESTE DE SELEÇÃO 1"
      ],
      "metadata": {
        "id": "kOPHonYpy7RY"
      }
    },
    {
      "cell_type": "code",
      "source": [
        "A, B, C, D = map(int,input().split())\n",
        "\n",
        "if(B>C and D>A and (C+D)>(A+B) and C>0 and D>0 and A%2==0):\n",
        "    print(\"Valores aceitos\")\n",
        "else:\n",
        "    print(\"Valores nao aceitos\")"
      ],
      "metadata": {
        "id": "VFB03_o0zLXg"
      },
      "execution_count": null,
      "outputs": []
    },
    {
      "cell_type": "markdown",
      "source": [],
      "metadata": {
        "id": "jVxJyxrnz0JY"
      }
    },
    {
      "cell_type": "markdown",
      "source": [
        "###**BEECROWD - 1038 Lanche**"
      ],
      "metadata": {
        "id": "WDto5NJn0lhr"
      }
    },
    {
      "cell_type": "code",
      "source": [
        "C, Q = map(int,input().split())\n",
        "\n",
        "if(C == 1):\n",
        "    V = Q * (4.00)\n",
        "    print(f\"Total: R$ {V:.2f}\")\n",
        "elif(C == 2):\n",
        "    V = Q * (4.50)\n",
        "    print(f\"Total: R$ {V:.2f}\")\n",
        "elif(C == 3):\n",
        "    V = Q * (5.00)\n",
        "    print(f\"Total: R$ {V:.2f}\")\n",
        "elif(C == 4):\n",
        "    V = Q * (2.00)\n",
        "    print(f\"Total: R$ {V:.2f}\")\n",
        "elif(C == 5):\n",
        "    V = Q * (1.50)\n",
        "    print(f\"Total: R$ {V:.2f}\")\n",
        "\n"
      ],
      "metadata": {
        "colab": {
          "base_uri": "https://localhost:8080/"
        },
        "outputId": "80ec03b7-00d0-4754-d188-02b89101eb99",
        "id": "p1Q7yY960lhx"
      },
      "execution_count": null,
      "outputs": [
        {
          "output_type": "stream",
          "name": "stdout",
          "text": [
            "1 3\n",
            "Total: R$ 12.00\n"
          ]
        }
      ]
    },
    {
      "cell_type": "markdown",
      "source": [
        "###BEECROWD - 1049 ANIMAL"
      ],
      "metadata": {
        "id": "rNh5qETS0LxO"
      }
    },
    {
      "cell_type": "code",
      "source": [
        "A = input()\n",
        "B = input()\n",
        "C = input()\n",
        "if(A == \"vertebrado\"):\n",
        "  if(B == \"ave\"):\n",
        "    if(C == \"carnivoro\"):\n",
        "      print(\"aguia\")\n",
        "    elif(C == \"onivoro\"):\n",
        "      print(\"pomba\")\n",
        "  elif(B == \"mamifero\"):\n",
        "    if(C == \"onivoro\"):\n",
        "      print(\"homem\")\n",
        "    elif(C == \"herbivoro\"):\n",
        "      print(\"vaca\")\n",
        "elif (A == \"invertebrado\"):\n",
        "  if (B == \"inseto\"):\n",
        "    if (C == \"hematofago\"):\n",
        "      print(\"pulga\")\n",
        "    elif(C == \"herbivoro\"):\n",
        "      print(\"lagarta\")\n",
        "  elif(B == \"anelideo\"):\n",
        "    if(C == \"hematofago\"):\n",
        "      print(\"sanguessuga\")\n",
        "    elif(C == \"onivoro\"):\n",
        "      print(\"minhoca\")"
      ],
      "metadata": {
        "colab": {
          "base_uri": "https://localhost:8080/"
        },
        "id": "XCowl3Rn070O",
        "outputId": "54146022-7f90-48d0-be3d-c2ffb859fd77"
      },
      "execution_count": null,
      "outputs": [
        {
          "output_type": "stream",
          "name": "stdout",
          "text": [
            "vertebrado\n",
            "mamifero\n",
            "onivoro\n",
            "pomba\n"
          ]
        }
      ]
    },
    {
      "cell_type": "markdown",
      "source": [
        "###**BEECROWD - 1050 DDD**"
      ],
      "metadata": {
        "id": "_EW3Ybc403_c"
      }
    },
    {
      "cell_type": "code",
      "source": [
        "ddd = int(input())\n",
        "\n",
        "if(ddd==61):\n",
        "    print(\"Brasilia\")\n",
        "elif(ddd==71):\n",
        "    print(\"Salvador\")\n",
        "elif(ddd==11):\n",
        "    print(\"Sao Paulo\")\n",
        "elif(ddd==21):\n",
        "    print(\"Rio de Janeiro\")\n",
        "elif(ddd==32):\n",
        "    print(\"Juiz de Fora\")\n",
        "elif(ddd==19):\n",
        "    print(\"Campinas\")\n",
        "elif(ddd==27):\n",
        "    print(\"Vitoria\")\n",
        "elif(ddd==31):\n",
        "    print(\"Belo Horizonte\")\n",
        "else:\n",
        "    print(\"DDD nao cadastrado\")"
      ],
      "metadata": {
        "id": "N11QnuKL03_c"
      },
      "execution_count": null,
      "outputs": []
    },
    {
      "cell_type": "markdown",
      "source": [
        "###BEECROWD - 1052 MÊS"
      ],
      "metadata": {
        "id": "2HO47lY64uwI"
      }
    },
    {
      "cell_type": "code",
      "source": [
        "V = int(input())\n",
        "if(V==1):\n",
        "    print(\"January\")\n",
        "elif(V==2):\n",
        "    print(\"February\")\n",
        "elif(V==3):\n",
        "    print(\"March\")\n",
        "elif(V==4):\n",
        "    print(\"April\")\n",
        "elif(V==5):\n",
        "    print(\"May\")\n",
        "elif(V==6):\n",
        "    print(\"June\")\n",
        "elif(V==7):\n",
        "    print(\"July\")\n",
        "elif(V==8):\n",
        "    print(\"August\")\n",
        "elif(V==9):\n",
        "    print(\"September\")\n",
        "elif(V==10):\n",
        "    print(\"October\")\n",
        "elif(V==11):\n",
        "    print(\"November\")\n",
        "elif(V==12):\n",
        "    print(\"December\")"
      ],
      "metadata": {
        "id": "MmQMlh8V40Ng"
      },
      "execution_count": null,
      "outputs": []
    },
    {
      "cell_type": "markdown",
      "source": [
        "#**BEECROWD - LISTA 4 - LAÇOS - INCODE**"
      ],
      "metadata": {
        "id": "foW0_JgK5cHw"
      }
    },
    {
      "cell_type": "markdown",
      "source": [
        "###BEECODE - 1059 NÚMEROS PARES"
      ],
      "metadata": {
        "id": "s1Nj6ZJw51yf"
      }
    },
    {
      "cell_type": "code",
      "source": [
        "for i in range (2,101,2):\n",
        "        print(i)"
      ],
      "metadata": {
        "colab": {
          "base_uri": "https://localhost:8080/"
        },
        "id": "FMq2K-J-6FIm",
        "outputId": "9887c7dc-0564-4230-d9af-ead13ef53d9b"
      },
      "execution_count": null,
      "outputs": [
        {
          "output_type": "stream",
          "name": "stdout",
          "text": [
            "2\n",
            "4\n",
            "6\n",
            "8\n",
            "10\n",
            "12\n",
            "14\n",
            "16\n",
            "18\n",
            "20\n",
            "22\n",
            "24\n",
            "26\n",
            "28\n",
            "30\n",
            "32\n",
            "34\n",
            "36\n",
            "38\n",
            "40\n",
            "42\n",
            "44\n",
            "46\n",
            "48\n",
            "50\n",
            "52\n",
            "54\n",
            "56\n",
            "58\n",
            "60\n",
            "62\n",
            "64\n",
            "66\n",
            "68\n",
            "70\n",
            "72\n",
            "74\n",
            "76\n",
            "78\n",
            "80\n",
            "82\n",
            "84\n",
            "86\n",
            "88\n",
            "90\n",
            "92\n",
            "94\n",
            "96\n",
            "98\n",
            "100\n"
          ]
        }
      ]
    },
    {
      "cell_type": "markdown",
      "source": [
        "###BEECROD - 1060 NÚMEROS POSITIVOS"
      ],
      "metadata": {
        "id": "qyMCXt-d8uQG"
      }
    },
    {
      "cell_type": "code",
      "source": [
        "a = float(input())\n",
        "b = float(input())\n",
        "c = float(input())\n",
        "d = float(input())\n",
        "e = float(input())\n",
        "f = float(input())\n",
        "\n",
        "p = 0\n",
        "\n",
        "if(a>0):\n",
        "  p=p+1\n",
        "if(b>0):\n",
        "  p=p+1\n",
        "if(c>0):\n",
        "  p=p+1\n",
        "if(d>0):\n",
        "  p=p+1\n",
        "if(e>0):\n",
        "  p=p+1\n",
        "if(f>0):\n",
        "  p=p+1\n",
        "\n",
        "print(f\"{p} valores positivos\")"
      ],
      "metadata": {
        "colab": {
          "base_uri": "https://localhost:8080/"
        },
        "id": "2BUfUdr084_t",
        "outputId": "32c049d2-a22d-4125-eefa-8f6d870a3e4d"
      },
      "execution_count": null,
      "outputs": [
        {
          "output_type": "stream",
          "name": "stdout",
          "text": [
            "7\n",
            "-5\n",
            "6\n",
            "-3.4\n",
            "4.6\n",
            "12\n",
            "4 valores positivos\n"
          ]
        }
      ]
    },
    {
      "cell_type": "markdown",
      "source": [
        "###BEECROD - 1066 PARES, IMPARES, POSITIVOS E NEGATIVOS"
      ],
      "metadata": {
        "id": "fqcO5a0r9BuV"
      }
    },
    {
      "cell_type": "code",
      "source": [
        "pares = 0\n",
        "impares = 0\n",
        "positivos = 0\n",
        "negativos = 0\n",
        "\n",
        "for i in range(5):\n",
        "    n = int(input())\n",
        "    if n % 2 == 0:\n",
        "        pares += 1\n",
        "    else:\n",
        "        impares += 1\n",
        "    if n > 0:\n",
        "        positivos += 1\n",
        "    elif n < 0:\n",
        "        negativos += 1\n",
        "\n",
        "print(f\"{pares} valor(es) par(es)\")\n",
        "print(f\"{impares} valor(es) impar(es)\")\n",
        "print(f\"{positivos} valor(es) positivo(s)\")\n",
        "print(f\"{negativos} valor(es) negativo(s)\")\n"
      ],
      "metadata": {
        "colab": {
          "base_uri": "https://localhost:8080/"
        },
        "id": "HSYcAnw2i1Fy",
        "outputId": "e4c467a2-609e-4ebf-9bf5-f3139342af6f"
      },
      "execution_count": null,
      "outputs": [
        {
          "output_type": "stream",
          "name": "stdout",
          "text": [
            "-5\n",
            "0\n",
            "-3\n",
            "-4\n",
            "12\n",
            "3 valor(es) par(es)\n",
            "2 valor(es) impar(es)\n",
            "1 valor(es) positivo(s)\n",
            "3 valor(es) negativo(s)\n"
          ]
        }
      ]
    },
    {
      "cell_type": "markdown",
      "source": [
        "###BEECROD - 1114 SENHA FIXA"
      ],
      "metadata": {
        "id": "tiNUJ-tb9Cs0"
      }
    },
    {
      "cell_type": "code",
      "source": [
        "senha = int(input())\n",
        "\n",
        "while(senha != 2002):\n",
        "  print(\"Senha Invalida\")\n",
        "  senha = int(input())\n",
        "print(\"Acesso Permitido\")"
      ],
      "metadata": {
        "id": "tSJdXWyO9CtD"
      },
      "execution_count": null,
      "outputs": []
    },
    {
      "cell_type": "markdown",
      "source": [
        "###BEECROD - 1132 MULTIPLOS DE 13"
      ],
      "metadata": {
        "id": "TAhAb0-J9DEm"
      }
    },
    {
      "cell_type": "code",
      "source": [
        "x=int(input())\n",
        "y=int(input())\n",
        "\n",
        "if(x>y):\n",
        "    maior=x\n",
        "    menor=y\n",
        "else:\n",
        "    maior=y\n",
        "    menor=x\n",
        "\n",
        "soma=0\n",
        "for i in range(menor,maior+1):\n",
        "    if(i%13!=0):\n",
        "        soma=soma+i\n",
        "print(soma)\n"
      ],
      "metadata": {
        "colab": {
          "base_uri": "https://localhost:8080/"
        },
        "id": "9jdGqqKn9DEm",
        "outputId": "79a5f113-a0c1-4558-e6d5-72fe06ace6e3"
      },
      "execution_count": null,
      "outputs": [
        {
          "output_type": "stream",
          "name": "stdout",
          "text": [
            "100\n",
            "200\n",
            "13954\n"
          ]
        }
      ]
    },
    {
      "cell_type": "markdown",
      "source": [
        "###BEECROWD - 1146 SEQUENCIAS CRESCENTES"
      ],
      "metadata": {
        "id": "9nDLRQWW9DOl"
      }
    },
    {
      "cell_type": "code",
      "source": [
        "x = int(input())\n",
        "while(x!=0):\n",
        "    y=''\n",
        "    for i in range (1,x+1):\n",
        "      y += str(i) + \" \"\n",
        "    print(y)\n",
        "    x = int(input())\n",
        "\n",
        "#  while(True):\n",
        "#    a=int(input())\n",
        "#    r=''\n",
        "#    if(a==0):\n",
        "#        break\n",
        "#    for i in range(1,a+1):\n",
        "#        r += str(i) + \" \"\n",
        "#    print(r[:-1])"
      ],
      "metadata": {
        "colab": {
          "base_uri": "https://localhost:8080/"
        },
        "id": "Pvc5lMgQ9DOl",
        "outputId": "1c5de0e3-6a14-4db4-f3d1-238d22ce47f9"
      },
      "execution_count": null,
      "outputs": [
        {
          "name": "stdout",
          "output_type": "stream",
          "text": [
            "5\n",
            "1 2 3 4 5 \n",
            "10\n",
            "1 2 3 4 5 6 7 8 9 10 \n",
            "0\n"
          ]
        }
      ]
    },
    {
      "cell_type": "markdown",
      "source": [
        "#**BEECROWD INICIANTE**"
      ],
      "metadata": {
        "id": "S7Ww3Ynchbby"
      }
    },
    {
      "cell_type": "markdown",
      "source": [
        "##**BEECROWD - 1011 ESFERA**"
      ],
      "metadata": {
        "id": "H3Zps0eXdU3e"
      }
    },
    {
      "cell_type": "code",
      "source": [
        "R = float(input())\n",
        "V = ((4/3.0) * (3.14159 * (R**3)))\n",
        "print(f'VOLUME = {V:.3F}')"
      ],
      "metadata": {
        "colab": {
          "base_uri": "https://localhost:8080/"
        },
        "id": "oxKz_pphddcb",
        "outputId": "8fa6185a-bb91-46b7-f156-f8543dcfba03"
      },
      "execution_count": null,
      "outputs": [
        {
          "output_type": "stream",
          "name": "stdout",
          "text": [
            "16\n",
            "VOLUME = 17157.270\n"
          ]
        }
      ]
    },
    {
      "cell_type": "markdown",
      "source": [
        "##**BEECROWD - 1012 ÁREA**"
      ],
      "metadata": {
        "id": "5EdENTnNe29t"
      }
    },
    {
      "cell_type": "code",
      "source": [
        "a, b, c = map(float, input().split())\n",
        "\n",
        "print(f'TRIANGULO: {((a * c) / 2):.3f}')\n",
        "print(f'CIRCULO: {(3.14159 * (c**2)):.3f}')\n",
        "print(f'TRAPEZIO: {(((a + b) * c) / 2):.3f}')\n",
        "print(f'QUADRADO: {(b**2):.3f}')\n",
        "print(f'RETANGULO: {(a * b):.3f}')"
      ],
      "metadata": {
        "colab": {
          "base_uri": "https://localhost:8080/"
        },
        "id": "MlP0iRhIfDkC",
        "outputId": "5c2e2649-8ca1-4127-bac2-9b88ec0c4c2f"
      },
      "execution_count": null,
      "outputs": [
        {
          "output_type": "stream",
          "name": "stdout",
          "text": [
            "15 15 15\n",
            "triangulo: 112.500\n",
            "circulo: 706.858\n",
            "trapezio: 225.000\n",
            "quadrado: 225.000\n",
            "retangulo: 225.000\n"
          ]
        }
      ]
    },
    {
      "cell_type": "markdown",
      "source": [
        "##**BEECROWD - 1013 O MAIOR**"
      ],
      "metadata": {
        "id": "62142umbpR9c"
      }
    },
    {
      "cell_type": "code",
      "source": [
        "A,B,C=list(map(int,input().split()))\n",
        "print(\"{} eh o maior\".format(max(A,B,C)))"
      ],
      "metadata": {
        "colab": {
          "base_uri": "https://localhost:8080/"
        },
        "id": "EImQP83WpZtc",
        "outputId": "4eff88d5-01a4-4948-d7a3-581aabecfa06"
      },
      "execution_count": null,
      "outputs": [
        {
          "output_type": "stream",
          "name": "stdout",
          "text": [
            "1 2 3\n",
            "3 eh o maior\n"
          ]
        }
      ]
    }
  ]
}